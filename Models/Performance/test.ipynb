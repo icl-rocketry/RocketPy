{
 "cells": [
  {
   "cell_type": "code",
   "execution_count": 2,
   "metadata": {},
   "outputs": [
    {
     "ename": "SyntaxError",
     "evalue": "non-default argument follows default argument (Segments.py, line 164)",
     "output_type": "error",
     "traceback": [
      "Traceback \u001b[1;36m(most recent call last)\u001b[0m:\n",
      "  File \u001b[0;32m\"C:\\Python\\Python39\\lib\\site-packages\\IPython\\core\\interactiveshell.py\"\u001b[0m, line \u001b[0;32m3444\u001b[0m, in \u001b[0;35mrun_code\u001b[0m\n    exec(code_obj, self.user_global_ns, self.user_ns)\n",
      "\u001b[1;36m  File \u001b[1;32m\"C:\\Users\\gabis\\AppData\\Local\\Temp/ipykernel_25764/1405527625.py\"\u001b[1;36m, line \u001b[1;32m1\u001b[1;36m, in \u001b[1;35m<module>\u001b[1;36m\u001b[0m\n\u001b[1;33m    from Segments import Takeoff, Climb, Landing, Cruise\u001b[0m\n",
      "\u001b[1;36m  File \u001b[1;32m\"c:\\Users\\gabis\\Downloads\\Conceptual-Design\\pyavd\\Models\\Performance\\Segments.py\"\u001b[1;36m, line \u001b[1;32m164\u001b[0m\n\u001b[1;33m    def setup(self, aircraft=None, V_inf, alpha1, n=1, alt , climb_rate, sigma,rho):\u001b[0m\n\u001b[1;37m                                          ^\u001b[0m\n\u001b[1;31mSyntaxError\u001b[0m\u001b[1;31m:\u001b[0m non-default argument follows default argument\n"
     ]
    }
   ],
   "source": [
    "from Segments import Takeoff, Climb, Landing, Cruise\n",
    "\n",
    "t = Takeoff()\n",
    "c = Climb(0.04, 0.05, 0.1, goAround=False)\n",
    "l = Landing()\n",
    "cr = Cruise(180,0.8)\n",
    "\n",
    "\n",
    "print(t)\n",
    "print(c)\n",
    "print(l)\n",
    "print(cr)\n"
   ]
  }
 ],
 "metadata": {
  "interpreter": {
   "hash": "c0fc9c7c1bb62fdc79ff189ccb2c2bfee35b493781111f864e72b574bd55d0d1"
  },
  "kernelspec": {
   "display_name": "Python 3.8.10 64-bit ('RocketPy': conda)",
   "language": "python",
   "name": "python3"
  },
  "language_info": {
   "codemirror_mode": {
    "name": "ipython",
    "version": 3
   },
   "file_extension": ".py",
   "mimetype": "text/x-python",
   "name": "python",
   "nbconvert_exporter": "python",
   "pygments_lexer": "ipython3",
   "version": "3.9.2"
  },
  "orig_nbformat": 4
 },
 "nbformat": 4,
 "nbformat_minor": 2
}
